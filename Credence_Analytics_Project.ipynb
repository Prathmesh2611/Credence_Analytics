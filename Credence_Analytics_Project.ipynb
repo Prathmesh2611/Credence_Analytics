{
 "cells": [
  {
   "cell_type": "markdown",
   "metadata": {},
   "source": [
    "- Prathmesh Bhukele \n",
    "- 8291159068\n",
    "- prathmeshbb26@gmail.com"
   ]
  },
  {
   "cell_type": "code",
   "execution_count": 65,
   "metadata": {},
   "outputs": [],
   "source": [
    "from flask import Flask,jsonify,request\n",
    "from pymongo import MongoClient"
   ]
  },
  {
   "cell_type": "code",
   "execution_count": 66,
   "metadata": {},
   "outputs": [],
   "source": [
    "app = Flask(__name__)"
   ]
  },
  {
   "cell_type": "code",
   "execution_count": 67,
   "metadata": {},
   "outputs": [],
   "source": [
    "client = MongoClient('mongodb://localhost:27017/')  \n",
    "db = client['books_db']  # Connecting to the 'books_db' database\n",
    "collection = db['books']  # Getting the 'books' collection from the database"
   ]
  },
  {
   "cell_type": "code",
   "execution_count": 68,
   "metadata": {},
   "outputs": [],
   "source": [
    "data = [\n",
    "    {\n",
    "        \"name\": \"Harry Potter and the Order of the Phoenix\",\n",
    "        \"img\": \"https://bit.ly/2IcnSwz\",\n",
    "        \"summary\": \"Harry Potter and Dumbledore's warning about the return of Lord Voldemort is not heeded by the wizard authorities who, in turn, look to undermine Dumbledore's authority at Hogwarts and discredit Harry.\"\n",
    "    },\n",
    "    {\n",
    "        \"name\": \"The Lord of the Rings: The Fellowship of the Ring\",\n",
    "        \"img\": \"https://bit.ly/2tC1Lcg\",\n",
    "        \"summary\": \"A young hobbit, Frodo, who has found the One Ring that belongs to the Dark Lord Sauron, begins his journey with eight companions to Mount Doom, the only place where it can be destroyed.\"\n",
    "    },\n",
    "    {\n",
    "        \"name\": \"Avengers: Endgame\",\n",
    "        \"img\": \"https://bit.ly/2Pzczlb\",\n",
    "        \"summary\": \"Adrift in space with no food or water, Tony Stark sends a message to Pepper Potts as his oxygen supply starts to dwindle. Meanwhile, the remaining Avengers -- Thor, Black Widow, Captain America, and Bruce Banner -- must figure out a way to bring back their vanquished allies for an epic showdown with Thanos -- the evil demigod who decimated the planet and the universe.\"\n",
    "    }\n",
    "]"
   ]
  },
  {
   "cell_type": "code",
   "execution_count": 69,
   "metadata": {},
   "outputs": [],
   "source": [
    "result = collection.insert_many(data)"
   ]
  },
  {
   "cell_type": "code",
   "execution_count": 70,
   "metadata": {},
   "outputs": [
    {
     "name": "stdout",
     "output_type": "stream",
     "text": [
      "InsertManyResult([ObjectId('661d0a4f6170b6b693cee7ca'), ObjectId('661d0a4f6170b6b693cee7cb'), ObjectId('661d0a4f6170b6b693cee7cc'), ObjectId('661d0a4f6170b6b693cee7cd')], acknowledged=True)\n"
     ]
    }
   ],
   "source": [
    "print(result)"
   ]
  },
  {
   "cell_type": "code",
   "execution_count": 71,
   "metadata": {},
   "outputs": [],
   "source": [
    "# Creating a new book\n",
    "@app.route('/books', methods=['POST'])\n",
    "def create_book():\n",
    "    data = request.json  # Get JSON data from the request body\n",
    "    collection.insert_one(data)  # Insert the data into the 'books' collection\n",
    "    return jsonify({'message': 'Book created successfully'}), 201  # Return a success message and HTTP status code 201"
   ]
  },
  {
   "cell_type": "code",
   "execution_count": 72,
   "metadata": {},
   "outputs": [],
   "source": [
    "# Getting all books\n",
    "@app.route('/books', methods=['GET'])\n",
    "def get_books():\n",
    "    books = list(collection.find())  # Retrieve all documents from the 'books' collection\n",
    "    return jsonify(books), 200  # Return the list of books as JSON and HTTP status code 200"
   ]
  },
  {
   "cell_type": "code",
   "execution_count": 73,
   "metadata": {},
   "outputs": [],
   "source": [
    "# Get a single book by its name\n",
    "@app.route('/books/<name>', methods=['GET'])\n",
    "def get_book(name):\n",
    "    book = collection.find_one({'name': name})  # Find a document in the 'books' collection by name\n",
    "    if book:\n",
    "        return jsonify(book), 200  # Return the book as JSON and HTTP status code 200 if found\n",
    "    else:\n",
    "        return jsonify({'message': 'Book not found'}), 404  # Return an error message and HTTP status code 404 if not found"
   ]
  },
  {
   "cell_type": "code",
   "execution_count": 74,
   "metadata": {},
   "outputs": [],
   "source": [
    "# Update a book\n",
    "@app.route('/books/<name>', methods=['PUT'])\n",
    "def update_book(name):\n",
    "    data = request.json  # Get JSON data from the request body\n",
    "    collection.update_one({'name': name}, {'$set': data})  # Update the book with the specified name\n",
    "    return jsonify({'message': 'Book updated successfully'}), 200  # Return a success message and HTTP status code 200"
   ]
  },
  {
   "cell_type": "code",
   "execution_count": 75,
   "metadata": {},
   "outputs": [],
   "source": [
    "# Delete a book\n",
    "@app.route('/books/<name>', methods=['DELETE'])\n",
    "def delete_book(name):\n",
    "    collection.delete_one({'name': name})  # Delete the book with the specified name\n",
    "    return jsonify({'message': 'Book deleted successfully'}), 200  # Return a success message and HTTP status code 200"
   ]
  }
 ],
 "metadata": {
  "kernelspec": {
   "display_name": "base",
   "language": "python",
   "name": "python3"
  },
  "language_info": {
   "codemirror_mode": {
    "name": "ipython",
    "version": 3
   },
   "file_extension": ".py",
   "mimetype": "text/x-python",
   "name": "python",
   "nbconvert_exporter": "python",
   "pygments_lexer": "ipython3",
   "version": "3.12.0"
  }
 },
 "nbformat": 4,
 "nbformat_minor": 2
}
